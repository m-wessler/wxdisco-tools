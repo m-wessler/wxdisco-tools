{
 "cells": [
  {
   "cell_type": "code",
   "execution_count": 126,
   "metadata": {},
   "outputs": [],
   "source": [
    "import numpy as np\n",
    "import pandas as pd\n",
    "import matplotlib.pyplot as plt\n",
    "from datetime import datetime\n",
    "\n",
    "from funcs import *\n",
    "from config import *\n",
    "from plotfuncs import *\n",
    "\n",
    "import warnings\n",
    "warnings.filterwarnings('ignore')"
   ]
  },
  {
   "cell_type": "code",
   "execution_count": 154,
   "metadata": {},
   "outputs": [
    {
     "name": "stdout",
     "output_type": "stream",
     "text": [
      "Loading plume data for KSLC from file\n"
     ]
    },
    {
     "data": {
      "text/plain": [
       "<xarray.Dataset>\n",
       "Dimensions:    (member: 26, time: 30)\n",
       "Coordinates:\n",
       "  * time       (time) float64 1.565e+18 1.565e+18 ... 1.565e+18 1.565e+18\n",
       "    lat        float32 40.77083\n",
       "    lon        float32 -111.97084\n",
       "  * member     (member) float64 1.0 2.0 3.0 4.0 5.0 ... 22.0 23.0 24.0 25.0 26.0\n",
       "    member_id  (member) <U7 'arw_ctl' 'arw_n1' 'arw_n2' ... 'nmb_p5' 'nmb_p6'\n",
       "Data variables:\n",
       "    slr        (member, time) float32 0.0 0.0 0.0 0.0 0.0 ... 0.0 0.0 0.0 0.0\n",
       "    dqpf       (member, time) float32 0.0 0.0 0.0 0.0 0.0 ... 0.0 0.0 0.0 0.0\n",
       "    snow       (member, time) float32 0.0 0.0 0.0 0.0 0.0 ... 0.0 0.0 0.0 0.0\n",
       "    acc_qpf    (member, time) float32 0.0 0.0 0.0 ... 0.035470035 0.035470035\n",
       "    acc_snow   (member, time) float32 0.0 0.0 0.0 0.0 0.0 ... 0.0 0.0 0.0 0.0\n",
       "Attributes:\n",
       "    description:  Downscaled {} QPF/Snow Grids Init SREF UTC\n",
       "    history:      Created 2019-08-07 13:23:04.301100\n",
       "    source:       University of Utah - Steenburgh Research Group"
      ]
     },
     "execution_count": 154,
     "metadata": {},
     "output_type": "execute_result"
    }
   ],
   "source": [
    "init_req = '2019080709'\n",
    "init_time = get_init(init_req)\n",
    "pdata = load_plumedata(init_time, 'KSLC')\n",
    "pdata"
   ]
  },
  {
   "cell_type": "code",
   "execution_count": 155,
   "metadata": {},
   "outputs": [],
   "source": [
    "time = pd.to_datetime(pdata.time.values)\n",
    "timefmt = '%Y-%m-%d %H:%M'\n",
    "p1i = np.where(np.array([t.hour for t in time]) == 18)[0][0]"
   ]
  },
  {
   "cell_type": "code",
   "execution_count": 172,
   "metadata": {},
   "outputs": [],
   "source": [
    "pop, pos = [], []\n",
    "for i, t in enumerate(time):\n",
    "    n = pdata.isel(time=i).dqpf.size\n",
    "\n",
    "    p_yes = np.where(pdata.isel(time=i).dqpf >= 0.01)[0].size\n",
    "    pop.append(np.round(p_yes/n*100, 0).astype(int))\n",
    "\n",
    "    s_yes = np.where(pdata.isel(time=i).snow >= 0.1)[0].size\n",
    "    pos.append(np.round(s_yes/n*100, 0).astype(int))\n",
    "\n",
    "pop, pos = np.array(pop), np.array(pos)\n",
    "pqpf = pdata.dqpf.quantile([.1, .5, .9], dim='member')\n",
    "pqsf = pdata.snow.quantile([.1, .5, .9], dim='member')"
   ]
  },
  {
   "cell_type": "code",
   "execution_count": 173,
   "metadata": {},
   "outputs": [
    {
     "data": {
      "text/plain": [
       "(0, 0)"
      ]
     },
     "execution_count": 173,
     "metadata": {},
     "output_type": "execute_result"
    }
   ],
   "source": [
    "# Use np.prod(times*members)\n",
    "p1 = pdata.isel(time=slice(p1i+1, p1i+3))\n",
    "n1 = np.prod(p1.dqpf.shape)\n",
    "\n",
    "p1_pop = int(np.round((np.where(p1.dqpf >= 0.01)[0].size/n1)*100, 0))\n",
    "p1_pos = int(np.round((np.where(p1.snow >= 0.01)[0].size/n1)*100, 0))\n",
    "p1_pop, p1_pos"
   ]
  },
  {
   "cell_type": "code",
   "execution_count": 174,
   "metadata": {},
   "outputs": [
    {
     "data": {
      "text/plain": [
       "(9, 0)"
      ]
     },
     "execution_count": 174,
     "metadata": {},
     "output_type": "execute_result"
    }
   ],
   "source": [
    "p2 = pdata.isel(time=slice(p1i+4, p1i+11))\n",
    "n2 = np.prod(p2.dqpf.shape)\n",
    "\n",
    "p2_pop = int(np.round((np.where(p2.dqpf >= 0.01)[0].size/n2)*100, 0))\n",
    "p2_pos = int(np.round((np.where(p2.snow >= 0.01)[0].size/n2)*100, 0))\n",
    "p2_pop, p2_pos"
   ]
  },
  {
   "cell_type": "code",
   "execution_count": 186,
   "metadata": {},
   "outputs": [
    {
     "data": {
      "text/plain": [
       "([0.0, 0.0, 0.0], [0.0, 0.0, 0.0])"
      ]
     },
     "execution_count": 186,
     "metadata": {},
     "output_type": "execute_result"
    }
   ],
   "source": [
    "p1_pqpf = [np.round(v, 2) for v in p1.dqpf.sum(dim='time').quantile([.1, .5, .9], dim='member').values]\n",
    "p1_pqsf = [np.round(v, 2) for v in p1.snow.sum(dim='time').quantile([.1, .5, .9], dim='member').values]\n",
    "p1_pqpf, p1_pqsf"
   ]
  },
  {
   "cell_type": "code",
   "execution_count": 187,
   "metadata": {},
   "outputs": [
    {
     "data": {
      "text/plain": [
       "(array([0.        , 0.00400052, 0.0698779 ]), array([0., 0., 0.]))"
      ]
     },
     "execution_count": 187,
     "metadata": {},
     "output_type": "execute_result"
    }
   ],
   "source": [
    "p2_pqpf = p2.dqpf.sum(dim='time').quantile([.1, .5, .9], dim='member').values\n",
    "p2_pqsf = p2.snow.sum(dim='time').quantile([.1, .5, .9], dim='member').values\n",
    "p2_pqpf, p2_pqsf"
   ]
  },
  {
   "cell_type": "code",
   "execution_count": 198,
   "metadata": {},
   "outputs": [],
   "source": [
    "try:\n",
    "    with open(wd + 'forecast.csv', 'r+') as rfp:\n",
    "        lines = rfp.readlines()\n",
    "        lenlines = len(lines)\n",
    "except:\n",
    "    lines = []\n",
    "    lenlines = 0\n",
    "\n",
    "maxlines = 91 if lenlines > 91 else None\n",
    "\n",
    "with open(wd + 'forecast.csv', 'w+') as wfp:\n",
    "    wfp.write(' , , , , \\n')\n",
    "    wfp.write('{}, {}, {}, {}, {}\\n'.format(\n",
    "        'KSLC Downscaled SREF Init: '+init_time.strftime('%Y-%m-%d %H%M UTC'), \n",
    "        'PoP (%)', \n",
    "        'PQPF 10/50/90 (in)', \n",
    "        'PoS (%)', \n",
    "        'PQSF 10/50/90 (in)'))\n",
    "\n",
    "    for i in range(11): \n",
    "        wfp.write('{}, {}, {}, {}, {}\\n'.format(\n",
    "            '3-h Period ending: ' + time[p1i+i].strftime(timefmt),\n",
    "            pop[p1i+i],\n",
    "            str(['{:6.3f}'.format(round(v[0], 3)) for v in pqpf.isel(time=[p1i+i]).values]).replace(',', ' ').replace(\"'\",'').replace('[', '').replace(']', ''),\n",
    "            pos[p1i+i],\n",
    "            str(['{:6.3f}'.format(round(v[0], 3)) for v in pqsf.isel(time=[p1i+i]).values]).replace(',', ' ').replace(\"'\",'').replace('[', '').replace(']', '')))\n",
    "        \n",
    "        if i in [2, 10]:\n",
    "            period = 'Period 1 (%s – %s)'%(time[p1i], time[p1i+i]) if i == 2 else 'Period 2 (%s – %s)'%(time[p1i+10], time[p1i+i])\n",
    "            _pop, _pos = (p1_pop, p1_pos) if i == 2 else (p2_pop, p2_pos)\n",
    "            _pqpf, _pqsf = (p1_pqpf, p1_pqsf) if i == 2 else (p2_pqpf, p2_pqsf)\n",
    "            \n",
    "            wfp.write('\\n{}, {}, {}, {}, {}\\n\\n'.format(\n",
    "                period,\n",
    "                _pop,\n",
    "                str(['{:6.3f}'.format(round(v, 3)) for v in _pqpf]).replace(',', ' ').replace(\"'\",'').replace('[', '').replace(']', ''),\n",
    "                _pos,\n",
    "                str(['{:6.3f}'.format(round(v, 3)) for v in _pqsf]).replace(',', ' ').replace(\"'\",'').replace('[', '').replace(']', '')\n",
    "            ))\n",
    "\n",
    "#     [wfp.write(line) for line in lines[:maxlines]]"
   ]
  },
  {
   "cell_type": "code",
   "execution_count": 193,
   "metadata": {},
   "outputs": [
    {
     "data": {
      "text/plain": [
       "Timestamp('2019-08-09 00:00:00')"
      ]
     },
     "execution_count": 193,
     "metadata": {},
     "output_type": "execute_result"
    }
   ],
   "source": [
    "time[p1i+10]"
   ]
  },
  {
   "cell_type": "code",
   "execution_count": null,
   "metadata": {},
   "outputs": [],
   "source": []
  }
 ],
 "metadata": {
  "kernelspec": {
   "display_name": "Python 3",
   "language": "python",
   "name": "python3"
  },
  "language_info": {
   "codemirror_mode": {
    "name": "ipython",
    "version": 3
   },
   "file_extension": ".py",
   "mimetype": "text/x-python",
   "name": "python",
   "nbconvert_exporter": "python",
   "pygments_lexer": "ipython3",
   "version": "3.6.5"
  }
 },
 "nbformat": 4,
 "nbformat_minor": 2
}
